{
 "cells": [
  {
   "cell_type": "code",
   "execution_count": null,
   "metadata": {},
   "outputs": [],
   "source": [
    "import os\n",
    "from langchain_cohere import ChatCohere\n",
    "from langchain_community.agent_toolkits.load_tools import load_tools\n",
    "from langchain.agents import create_react_agent  \n",
    "from langchain.agents import ZeroShotReactDescriptionAgent \n",
    "from langchain_community.utilities import GoogleSearchAPIWrapper\n",
    "from langchain_core.tools import Tool \n",
    "from dotenv import load_dotenv"
   ]
  }
 ],
 "metadata": {
  "language_info": {
   "name": "python"
  }
 },
 "nbformat": 4,
 "nbformat_minor": 2
}
